{
 "cells": [
  {
   "cell_type": "code",
   "execution_count": 1,
   "outputs": [],
   "source": [
    "import networkx as nx\n",
    "from fair_cc_functions import *\n",
    "import numpy as np\n",
    "import matplotlib.pyplot as plt"
   ],
   "metadata": {
    "collapsed": false,
    "pycharm": {
     "name": "#%%\n"
    }
   }
  },
  {
   "cell_type": "code",
   "execution_count": 2,
   "outputs": [],
   "source": [
    "# generates unfair and corresponding fair graph, computes clusters for these graphs and their costs\n",
    "# for all amount of nodes from 4 to n with 10 iterations by default\n",
    "# returns 2 arrays with the means of unfair and fair costs\n",
    "def means_complete_graph(n, iteration=10):\n",
    "    unfair_mean, fair_mean = [], []\n",
    "    for i in range(4,n+1, 2):\n",
    "        unfair_val, fair_val = [], []\n",
    "        # create unfair graph\n",
    "        unfair_graph = generate_complete_graph(i)\n",
    "        # create fairlets and fair graph\n",
    "        fairlets = create_fairlets(unfair_graph)\n",
    "        fair_graph = nx.Graph()\n",
    "        fair_graph.add_nodes_from(fairlets)\n",
    "        fair_p, fair_m = create_fairlet_relations(fairlets, unfair_graph)\n",
    "        fair_graph.add_weighted_edges_from(fair_p)\n",
    "        fair_graph.add_weighted_edges_from(fair_m)\n",
    "        for j in range(iteration):\n",
    "            # calculate unfair cluster and its costs\n",
    "            unfair_cluster = cc_pivot(unfair_graph)\n",
    "            unfair_val.append(cost(unfair_cluster, unfair_graph))\n",
    "            # calculate fair cluster and its costs\n",
    "            fair_cluster = cc_pivot(fair_graph)\n",
    "            fair_val.append(cost(fair_cluster, unfair_graph))\n",
    "        print(str(i/n) + '%')\n",
    "        unfair_mean.append(np.mean(unfair_val))\n",
    "        fair_mean.append(np.mean(fair_val))\n",
    "    return unfair_mean, fair_mean\n",
    "\n",
    "# same as means_complete_graph, but with different graph generation function\n",
    "def means_incomplete_graph(n, iteration=10):\n",
    "    unfair_mean, fair_mean = [], []\n",
    "    for i in range(4,n+1, 2):\n",
    "        unfair_val, fair_val = [], []\n",
    "        # create unfair graph\n",
    "        unfair_graph = generate_incomplete_graph(i)\n",
    "        # create fairlets and fair graph\n",
    "        fairlets = create_fairlets(unfair_graph)\n",
    "        fair_graph = nx.Graph()\n",
    "        fair_graph.add_nodes_from(fairlets)\n",
    "        fair_p, fair_m = create_fairlet_relations(fairlets, unfair_graph)\n",
    "        fair_graph.add_weighted_edges_from(fair_p)\n",
    "        fair_graph.add_weighted_edges_from(fair_m)\n",
    "        for j in range(iteration):\n",
    "            # calculate unfair cluster and its costs\n",
    "            unfair_cluster = cc_pivot(unfair_graph)\n",
    "            unfair_val.append(cost(unfair_cluster, unfair_graph))\n",
    "            # calculate fair cluster and its costs\n",
    "            fair_cluster = cc_pivot(fair_graph)\n",
    "            fair_val.append(cost(fair_cluster, unfair_graph))\n",
    "        print(str(i/n) + '%')\n",
    "        unfair_mean.append(np.mean(unfair_val))\n",
    "        fair_mean.append(np.mean(fair_val))\n",
    "    return unfair_mean, fair_mean\n",
    "\n",
    "# same as means, but returns maximum found after certain amount of iterations\n",
    "def maxs_complete_graph(n, iteration=10):\n",
    "    unfair_maxs, fair_maxs = [], []\n",
    "    for i in range(4,n+1, 2):\n",
    "        unfair_max, fair_max = 0, 0\n",
    "        # generate unfair graph\n",
    "        unfair_graph = generate_complete_graph(i)\n",
    "        # generate fair graph\n",
    "        fairlets = create_fairlets(unfair_graph)\n",
    "        fair_graph = nx.Graph()\n",
    "        fair_graph.add_nodes_from(fairlets)\n",
    "        fair_p, fair_m = create_fairlet_relations(fairlets, unfair_graph)\n",
    "        fair_graph.add_weighted_edges_from(fair_p)\n",
    "        fair_graph.add_weighted_edges_from(fair_m)\n",
    "        for j in range(iteration):\n",
    "            if fair_max == n**2/4: break\n",
    "            # compute unfair cluster and calculate costs\n",
    "            unfair_cluster = cc_pivot(unfair_graph)\n",
    "            unfair_costs = cost(unfair_cluster, unfair_graph)\n",
    "            if unfair_costs > unfair_max: unfair_max = unfair_costs\n",
    "            # compute fair cluster and calculate costs\n",
    "            fair_cluster = cc_pivot(fair_graph)\n",
    "            fair_costs = cost(fair_cluster, unfair_graph)\n",
    "            if fair_costs > fair_max: fair_max = fair_costs\n",
    "        unfair_maxs.append(unfair_max)\n",
    "        fair_maxs.append(fair_max)\n",
    "        print(str(i/n) + '%')\n",
    "    return unfair_maxs, fair_maxs\n",
    "\n",
    "# same as maxs_complete_graph, but with different graph generation function\n",
    "def maxs_incomplete_graph(n, iteration=10):\n",
    "    unfair_maxs, fair_maxs = [], []\n",
    "    for i in range(4,n+1, 2):\n",
    "        unfair_max, fair_max = 0, 0\n",
    "        # generate unfair graph\n",
    "        unfair_graph = generate_incomplete_graph(i)\n",
    "        # generate fair graph\n",
    "        fairlets = create_fairlets(unfair_graph)\n",
    "        fair_graph = nx.Graph()\n",
    "        fair_graph.add_nodes_from(fairlets)\n",
    "        fair_p, fair_m = create_fairlet_relations(fairlets, unfair_graph)\n",
    "        fair_graph.add_weighted_edges_from(fair_p)\n",
    "        fair_graph.add_weighted_edges_from(fair_m)\n",
    "        for j in range(iteration):\n",
    "            # compute unfair cluster and calculate costs\n",
    "            unfair_cluster = cc_pivot(unfair_graph)\n",
    "            unfair_costs = cost(unfair_cluster, unfair_graph)\n",
    "            if unfair_costs > unfair_max: unfair_max = unfair_costs\n",
    "            # compute fair cluster and calculate costs\n",
    "            fair_cluster = cc_pivot(fair_graph)\n",
    "            fair_costs = cost(fair_cluster, unfair_graph)\n",
    "            if fair_costs > fair_max: fair_max = fair_costs\n",
    "        unfair_maxs.append(unfair_max)\n",
    "        fair_maxs.append(fair_max)\n",
    "        print(str(i/n) + '%')\n",
    "    return unfair_maxs, fair_maxs\n",
    "\n",
    "# set global maximum amount of nodes\n",
    "nodes = 100\n",
    "iters = 50"
   ],
   "metadata": {
    "collapsed": false,
    "pycharm": {
     "name": "#%%\n"
    }
   }
  },
  {
   "cell_type": "code",
   "execution_count": null,
   "outputs": [
    {
     "name": "stdout",
     "output_type": "stream",
     "text": [
      "0.04%\n",
      "0.06%\n",
      "0.08%\n",
      "0.1%\n",
      "0.12%\n",
      "0.14%\n",
      "0.16%\n",
      "0.18%\n",
      "0.2%\n",
      "0.22%\n",
      "0.24%\n",
      "0.26%\n",
      "0.28%\n",
      "0.3%\n",
      "0.32%\n"
     ]
    }
   ],
   "source": [
    "random.seed(0)\n",
    "unfair_comp_max, fair_comp_max = maxs_complete_graph(nodes, iteration=iters)\n",
    "print(\"-------------------- Max done for complete graphs -------------------\")\n",
    "unfair_comp_mean, fair_comp_mean = means_complete_graph(nodes, iteration=iters)\n",
    "print(\"-------------------- Mean done for complete graphs ------------------\")\n",
    "unfair_incomp_max, fair_incomp_max = maxs_incomplete_graph(nodes, iteration=iters)\n",
    "print(\"-------------------- Max done for incomplete graphs -----------------\")\n",
    "unfair_incomp_mean, fair_incomp_mean = means_incomplete_graph(nodes, iteration=iters)\n",
    "print(\"-------------------- Mean done for incomplete graphs ----------------\")"
   ],
   "metadata": {
    "collapsed": false,
    "pycharm": {
     "name": "#%%\n",
     "is_executing": true
    }
   }
  },
  {
   "cell_type": "code",
   "execution_count": null,
   "outputs": [],
   "source": [
    "amt_nodes = [i for i in range(4,nodes+1,2)]\n",
    "max_calc_cost_comp = [i**2/4 for i in range(4,nodes+1,2)]\n",
    "mean_comp_dif = [i-j for i,j in zip(fair_comp_mean, unfair_comp_mean)]\n",
    "max_comp_dif = [i-j for i,j in zip(fair_comp_max, unfair_comp_max)]\n",
    "mean_incomp_dif = [i-j for i,j in zip(fair_incomp_mean, unfair_incomp_mean)]\n",
    "max_incomp_dif = [i-j for i,j in zip(fair_incomp_max, unfair_incomp_max)]\n",
    "\n",
    "print(max_incomp_dif)\n",
    "print(mean_incomp_dif)\n",
    "\n",
    "#print('Nodes:       ', nodes)\n",
    "#print('Dif(max):    ', max_dif)\n",
    "#print('Unfair Mean: ', unfair_mean)\n",
    "#print('Unfair Max:  ', unfair_max)\n",
    "#print('Fair Mean:   ', fair_mean)\n",
    "#print('Fair Max:    ', fair_max)\n",
    "#print('Costs calc:  ', max_calc_cost)\n",
    "\n",
    "# note:\n",
    "# no use of the same graphs in max and mean!!\n",
    "fig, ax = plt.subplots(2,2, figsize=(15,10), sharex=True, sharey=True)\n",
    "\n",
    "ax[0][0].plot(amt_nodes, unfair_comp_mean, label='Mean of unfair costs (comp)')\n",
    "ax[0][0].plot(amt_nodes, fair_comp_mean, label='Mean of fair costs (comp)')\n",
    "ax[0][0].plot(amt_nodes, mean_comp_dif, label='Dif. btw. fair and unfair costs (mean, comp)')\n",
    "#ax[0][0].plot(amt_nodes, max_calc_cost_comp, label='Maximal calculated costs')\n",
    "ax[0][0].legend()\n",
    "\n",
    "ax[0][1].plot(amt_nodes, unfair_comp_max, label='Max of unfair costs (comp)')\n",
    "ax[0][1].plot(amt_nodes, fair_comp_max, label='Max of fair costs (comp)')\n",
    "ax[0][1].plot(amt_nodes, max_comp_dif, label='Dif. btw. fair and unfair costs (max, comp)')\n",
    "#ax[0][1].plot(amt_nodes, max_calc_cost_comp, label='Maximal calculated costs')\n",
    "ax[0][1].legend()\n",
    "ax[1][0].plot(amt_nodes, unfair_incomp_mean, label = 'Mean of unfair costs (incomp)')\n",
    "ax[1][0].plot(amt_nodes, fair_incomp_mean, label='Mean of fair costs (incomp)')\n",
    "ax[1][0].plot(amt_nodes, mean_incomp_dif, label = 'Dif. btw. fair and unfair costs (mean, incomp)')\n",
    "ax[1][0].legend()\n",
    "ax[1][1].plot(amt_nodes, unfair_incomp_max, label = 'Max of unfair costs (incomp')\n",
    "ax[1][1].plot(amt_nodes, fair_incomp_max, label = 'Max of fair costs (incomp')\n",
    "ax[1][1].plot(amt_nodes, max_incomp_dif, label = 'Dif. btw. fair and unfair costs (max, incomp)')\n",
    "ax[1][1].legend()\n",
    "plt.tight_layout()\n",
    "plt.show()"
   ],
   "metadata": {
    "collapsed": false,
    "pycharm": {
     "name": "#%%\n",
     "is_executing": true
    }
   }
  },
  {
   "cell_type": "code",
   "execution_count": 14,
   "outputs": [],
   "source": [],
   "metadata": {
    "collapsed": false,
    "pycharm": {
     "name": "#%%\n"
    }
   }
  },
  {
   "cell_type": "code",
   "execution_count": 13,
   "outputs": [],
   "source": [],
   "metadata": {
    "collapsed": false,
    "pycharm": {
     "name": "#%%\n"
    }
   }
  },
  {
   "cell_type": "code",
   "execution_count": 155,
   "outputs": [],
   "source": [],
   "metadata": {
    "collapsed": false,
    "pycharm": {
     "name": "#%%\n"
    }
   }
  },
  {
   "cell_type": "code",
   "execution_count": 45,
   "outputs": [],
   "source": [],
   "metadata": {
    "collapsed": false,
    "pycharm": {
     "name": "#%%\n"
    }
   }
  },
  {
   "cell_type": "code",
   "execution_count": null,
   "outputs": [],
   "source": [],
   "metadata": {
    "collapsed": false,
    "pycharm": {
     "name": "#%%\n"
    }
   }
  }
 ],
 "metadata": {
  "kernelspec": {
   "display_name": "Python 3",
   "language": "python",
   "name": "python3"
  },
  "language_info": {
   "codemirror_mode": {
    "name": "ipython",
    "version": 2
   },
   "file_extension": ".py",
   "mimetype": "text/x-python",
   "name": "python",
   "nbconvert_exporter": "python",
   "pygments_lexer": "ipython2",
   "version": "2.7.6"
  }
 },
 "nbformat": 4,
 "nbformat_minor": 0
}