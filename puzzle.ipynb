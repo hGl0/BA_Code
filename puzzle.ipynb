{
 "cells": [
  {
   "cell_type": "code",
   "execution_count": 29,
   "outputs": [],
   "source": [
    "import networkx as nx\n",
    "\n",
    "from fair_cc_functions import *\n",
    "import numpy as np\n",
    "import matplotlib.pyplot as plt\n",
    "import networkx as nx"
   ],
   "metadata": {
    "collapsed": false,
    "pycharm": {
     "name": "#%%\n"
    }
   }
  },
  {
   "cell_type": "code",
   "execution_count": 3,
   "outputs": [],
   "source": [
    "def greedy_puzzle(red_g, blue_g, iterations=10):\n",
    "    # 2) perform cc-pivot on each subgraph, clusters sorted\n",
    "    blue_cluster = sorted(cc_pivot(blue_g), key=len)\n",
    "    red_cluster = sorted(cc_pivot(red_g), key=len)\n",
    "\n",
    "    # 3) get size of clustering\n",
    "    min_c = np.min([len(blue_cluster), len(red_cluster)])\n",
    "    max_c = np.max([len(blue_cluster), len(red_cluster)])\n",
    "    if len(red_cluster) > len(blue_cluster):\n",
    "        big_c = red_cluster\n",
    "        small_c = blue_cluster\n",
    "    else:\n",
    "        big_c = blue_cluster\n",
    "        small_c = red_cluster\n",
    "\n",
    "    # 4) greedy algo and sort the largest clusters together\n",
    "    final_cluster=[]\n",
    "    for i in range(1, min_c+1):\n",
    "        final_cluster.append(big_c[-i] + small_c[-i])\n",
    "\n",
    "    for i in range(max_c-min_c-1, -1, -1):\n",
    "        final_cluster[-((i)%min_c+1)].extend(big_c[i])\n",
    "    return final_cluster, red_cluster, blue_cluster"
   ],
   "metadata": {
    "collapsed": false,
    "pycharm": {
     "name": "#%%\n"
    }
   }
  },
  {
   "cell_type": "code",
   "execution_count": 34,
   "outputs": [],
   "source": [
    "def stats_puzzle(n, red_type, blue_type, iters=10):\n",
    "    # 1) generate 2 subgraphs (one red, one blue)\n",
    "    cluster_bal = []\n",
    "    red_cost, blue_cost = [], []\n",
    "    cluster_cost = []\n",
    "    for i in range(10, n, 2):\n",
    "        _, red_g, blue_g = generate_red_blue_graph(i, red_type, blue_type)\n",
    "        red_g.add_edges_from(red_g.edges, weight=1)\n",
    "        red_g.add_edges_from(nx.complement(red_g).edges, weight=0)\n",
    "        blue_g.add_edges_from(blue_g.edges, weight=1)\n",
    "        blue_g.add_edges_from(nx.complement(blue_g).edges, weight=0)\n",
    "        composed_graph = nx.compose(red_g, blue_g)\n",
    "        bal, c, cost_b, cost_r = [], [], [], []\n",
    "        for j in range(iters):\n",
    "            fin_c, r_cl, b_cl = greedy_puzzle(red_g, blue_g)\n",
    "            bal.append(balance(fin_c, composed_graph))\n",
    "            c.append(cost(fin_c, composed_graph))\n",
    "            cost_b.append(cost(b_cl, blue_g))\n",
    "            cost_r.append(cost(r_cl, red_g))\n",
    "        cluster_bal.append(bal)\n",
    "        cluster_cost.append(c)\n",
    "        red_cost.append(cost_r)\n",
    "        blue_cost.append(cost_b)\n",
    "    return cluster_bal, cluster_cost, red_cost, blue_cost"
   ],
   "metadata": {
    "collapsed": false,
    "pycharm": {
     "name": "#%%\n"
    }
   }
  },
  {
   "cell_type": "code",
   "execution_count": 35,
   "outputs": [],
   "source": [
    "star_star_bal, star_star_c, red_star_c, blue_star_c = stats_puzzle(61, 'star', 'star', iters=20)"
   ],
   "metadata": {
    "collapsed": false,
    "pycharm": {
     "name": "#%%\n"
    }
   }
  },
  {
   "cell_type": "code",
   "execution_count": 99,
   "outputs": [],
   "source": [
    "probs = []\n",
    "squr_sum =[]\n",
    "for m in range(1, 100):\n",
    "    prob = 0\n",
    "    squrs = 0\n",
    "    for i in range(1, m+1):\n",
    "        prob_m=1\n",
    "        for j in range(m, m-i, -1):\n",
    "            prob_m = prob_m*(1/(j*j))\n",
    "        prob += prob_m\n",
    "        squrs += 1/m**2\n",
    "    probs.append(prob)\n",
    "    squr_sum.append(squrs)\n",
    "x = [1/i for i in range(1, 100)]\n",
    "p = [1/np.math.factorial(i) for i in range(1,100)]\n",
    "squr = [1/i**2 for i in range(1,100)]"
   ],
   "metadata": {
    "collapsed": false,
    "pycharm": {
     "name": "#%%\n"
    }
   }
  },
  {
   "cell_type": "code",
   "execution_count": 97,
   "outputs": [
    {
     "data": {
      "text/plain": "<Figure size 432x288 with 1 Axes>",
      "image/png": "[encoded data removed]"
     },
     "metadata": {
      "needs_background": "light"
     },
     "output_type": "display_data"
    }
   ],
   "source": [
    "plt.plot(x[1:])\n",
    "plt.plot(probs[1:], '--')\n",
    "#plt.plot(p[10:], '-.')\n",
    "plt.plot(squr[1:], color='blue')\n",
    "plt.show()"
   ],
   "metadata": {
    "collapsed": false,
    "pycharm": {
     "name": "#%%\n"
    }
   }
  },
  {
   "cell_type": "code",
   "execution_count": 100,
   "outputs": [
    {
     "name": "stdout",
     "output_type": "stream",
     "text": [
      "[0.0, 0.0, 0.16666666666666663, 0.17708333333333334, 0.15708333333333335, 0.13769675925925928, 0.12185775699168555, 0.10904688459585223, 0.0985684800567389, 0.08987457368945627, 0.0825609468899955, 0.07633091566653408, 0.07096448273569943, 0.06629612962149296, 0.06219941136974632, 0.05857629978399641, 0.055349744981951526, 0.05245841424558699, 0.04985291650606659, 0.04749305334389675, 0.04534578923660747, 0.04338373293722637, 0.04158398712189542, 0.039927266885854754, 0.03839721696035069, 0.03697987753988218, 0.03566326246787151, 0.03443702324672302, 0.03329217923606709, 0.032220899356239306, 0.03121632421022156, 0.030272420175482512, 0.02938385897169467, 0.02854591767185869, 0.027754395226910988, 0.02700554241254281, 0.026296002749915812, 0.025622762448561567, 0.024983107806032124, 0.02437458880135314, 0.023794987857704543, 0.023242292938750138, 0.022714674293742167, 0.022210464287365814, 0.021728139847684017, 0.021266307144435476, 0.020823688174155558, 0.020399108981089167, 0.019991489285984078, 0.01959983333040827, 0.019223221773675695, 0.018860804503933577, 0.01851179424538028, 0.018175460860671136, 0.017851126261931277, 0.017538159855892906, 0.017235974458910064, 0.016944022626281138, 0.01666179334769202, 0.016388809066890362, 0.01612462298908903, 0.01586881664421594, 0.015620997678101847, 0.015380797847120382, 0.015147871194756695, 0.014921892391140975, 0.014702555218810327, 0.014489571189897155, 0.01428266828162926, 0.01408158977850174, 0.013886093210770244, 0.013695949380047966, 0.013510941463781397, 0.013330864191257645, 0.013155523084564948, 0.012984733758613445, 0.012818321274923532, 0.012656119544426006, 0.01249797077499183, 0.012343724959832334, 0.01219323940328605, 0.012046378280843375, 0.011903012230560254, 0.011763017973279421, 0.011626277959317444, 0.011492680039491221, 0.011362117158549723, 0.011234487069251653, 0.011109692065484872, 0.010987638732964135, 0.01086823771617216, 0.010751403500322198, 0.010637054207224307, 0.010525111404032934, 0.010415499923937017, 0.010308147697931236, 0.010202985596878662, 0.01009994728313686, 0.009998969071079547]\n"
     ]
    }
   ],
   "source": [
    "print([i-j for i,j in zip(squr_sum, probs)])"
   ],
   "metadata": {
    "collapsed": false,
    "pycharm": {
     "name": "#%%\n"
    }
   }
  },
  {
   "cell_type": "code",
   "execution_count": 105,
   "outputs": [
    {
     "name": "stdout",
     "output_type": "stream",
     "text": [
      "[(1, 8), (2, 9), (4, 5), (0, 6), (3, 7)]\n",
      "[[(0, 6), (1, 8), (2, 9), (4, 5), (3, 7)]]\n"
     ]
    },
    {
     "data": {
      "text/plain": "<Figure size 432x288 with 2 Axes>",
      "image/png": "[encoded data removed]"
     },
     "metadata": {},
     "output_type": "display_data"
    }
   ],
   "source": [
    "g, r, b = generate_red_blue_graph(10, 'star', 'star')\n",
    "fairlets = create_fairlets(g)\n",
    "fair_g = nx.Graph()\n",
    "fair_g.add_nodes_from(fairlets)\n",
    "E_p, E_m = create_fairlet_relations_incomplete(fairlets, g)\n",
    "fair_g.add_weighted_edges_from(E_p)\n",
    "fair_g.add_weighted_edges_from(E_m)\n",
    "\n",
    "cluster = cc_pivot(fair_g)\n",
    "\n",
    "fig, ax = plt.subplots(1,2)\n",
    "draw_graph(g, ax[0])\n",
    "draw_graph(fair_g, ax[1])\n",
    "print(fairlets)\n",
    "print(cluster)"
   ],
   "metadata": {
    "collapsed": false,
    "pycharm": {
     "name": "#%%\n"
    }
   }
  },
  {
   "cell_type": "code",
   "execution_count": null,
   "outputs": [],
   "source": [],
   "metadata": {
    "collapsed": false,
    "pycharm": {
     "name": "#%%\n"
    }
   }
  }
 ],
 "metadata": {
  "kernelspec": {
   "display_name": "Python 3",
   "language": "python",
   "name": "python3"
  },
  "language_info": {
   "codemirror_mode": {
    "name": "ipython",
    "version": 2
   },
   "file_extension": ".py",
   "mimetype": "text/x-python",
   "name": "python",
   "nbconvert_exporter": "python",
   "pygments_lexer": "ipython2",
   "version": "2.7.6"
  }
 },
 "nbformat": 4,
 "nbformat_minor": 0
}