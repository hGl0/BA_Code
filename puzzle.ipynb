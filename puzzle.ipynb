{
 "cells": [
  {
   "cell_type": "code",
   "execution_count": 29,
   "outputs": [],
   "source": [
    "import networkx as nx\n",
    "\n",
    "from fair_cc_functions import *\n",
    "import numpy as np\n",
    "import matplotlib.pyplot as plt\n",
    "import networkx as nx"
   ],
   "metadata": {
    "collapsed": false,
    "pycharm": {
     "name": "#%%\n"
    }
   }
  },
  {
   "cell_type": "code",
   "execution_count": 3,
   "outputs": [],
   "source": [
    "def greedy_puzzle(red_g, blue_g, iterations=10):\n",
    "    # 2) perform cc-pivot on each subgraph, clusters sorted\n",
    "    blue_cluster = sorted(cc_pivot(blue_g), key=len)\n",
    "    red_cluster = sorted(cc_pivot(red_g), key=len)\n",
    "\n",
    "    # 3) get size of clustering\n",
    "    min_c = np.min([len(blue_cluster), len(red_cluster)])\n",
    "    max_c = np.max([len(blue_cluster), len(red_cluster)])\n",
    "    if len(red_cluster) > len(blue_cluster):\n",
    "        big_c = red_cluster\n",
    "        small_c = blue_cluster\n",
    "    else:\n",
    "        big_c = blue_cluster\n",
    "        small_c = red_cluster\n",
    "\n",
    "    # 4) greedy algo and sort the largest clusters together\n",
    "    final_cluster=[]\n",
    "    for i in range(1, min_c+1):\n",
    "        final_cluster.append(big_c[-i] + small_c[-i])\n",
    "\n",
    "    for i in range(max_c-min_c-1, -1, -1):\n",
    "        final_cluster[-((i)%min_c+1)].extend(big_c[i])\n",
    "    return final_cluster, red_cluster, blue_cluster"
   ],
   "metadata": {
    "collapsed": false,
    "pycharm": {
     "name": "#%%\n"
    }
   }
  },
  {
   "cell_type": "code",
   "execution_count": 34,
   "outputs": [],
   "source": [
    "def stats_puzzle(n, red_type, blue_type, iters=10):\n",
    "    # 1) generate 2 subgraphs (one red, one blue)\n",
    "    cluster_bal = []\n",
    "    red_cost, blue_cost = [], []\n",
    "    cluster_cost = []\n",
    "    for i in range(10, n, 2):\n",
    "        _, red_g, blue_g = generate_red_blue_graph(i, red_type, blue_type)\n",
    "        red_g.add_edges_from(red_g.edges, weight=1)\n",
    "        red_g.add_edges_from(nx.complement(red_g).edges, weight=0)\n",
    "        blue_g.add_edges_from(blue_g.edges, weight=1)\n",
    "        blue_g.add_edges_from(nx.complement(blue_g).edges, weight=0)\n",
    "        composed_graph = nx.compose(red_g, blue_g)\n",
    "        bal, c, cost_b, cost_r = [], [], [], []\n",
    "        for j in range(iters):\n",
    "            fin_c, r_cl, b_cl = greedy_puzzle(red_g, blue_g)\n",
    "            bal.append(balance(fin_c, composed_graph))\n",
    "            c.append(cost(fin_c, composed_graph))\n",
    "            cost_b.append(cost(b_cl, blue_g))\n",
    "            cost_r.append(cost(r_cl, red_g))\n",
    "        cluster_bal.append(bal)\n",
    "        cluster_cost.append(c)\n",
    "        red_cost.append(cost_r)\n",
    "        blue_cost.append(cost_b)\n",
    "    return cluster_bal, cluster_cost, red_cost, blue_cost"
   ],
   "metadata": {
    "collapsed": false,
    "pycharm": {
     "name": "#%%\n"
    }
   }
  },
  {
   "cell_type": "code",
   "execution_count": 35,
   "outputs": [],
   "source": [
    "star_star_bal, star_star_c, red_star_c, blue_star_c = stats_puzzle(61, 'star', 'star', iters=20)"
   ],
   "metadata": {
    "collapsed": false,
    "pycharm": {
     "name": "#%%\n"
    }
   }
  },
  {
   "cell_type": "code",
   "execution_count": 61,
   "outputs": [],
   "source": [
    "# probs = []\n",
    "# m = 4\n",
    "# for m in range(1, 100):\n",
    "#     prob = 0\n",
    "#     for i in range(1, m+1):\n",
    "#         prob_m=1\n",
    "#         for j in range(m, m-i, -1):\n",
    "#             prob_m = prob_m*(1/(j*j))\n",
    "#         prob += prob_m\n",
    "#     probs.append(prob)\n",
    "# x = [1/i for i in range(1, 100)]"
   ],
   "metadata": {
    "collapsed": false,
    "pycharm": {
     "name": "#%%\n"
    }
   }
  },
  {
   "cell_type": "code",
   "execution_count": 61,
   "outputs": [],
   "source": [],
   "metadata": {
    "collapsed": false,
    "pycharm": {
     "name": "#%%\n"
    }
   }
  },
  {
   "cell_type": "code",
   "execution_count": 40,
   "outputs": [],
   "source": [],
   "metadata": {
    "collapsed": false,
    "pycharm": {
     "name": "#%%\n"
    }
   }
  },
  {
   "cell_type": "code",
   "execution_count": null,
   "outputs": [],
   "source": [],
   "metadata": {
    "collapsed": false,
    "pycharm": {
     "name": "#%%\n"
    }
   }
  }
 ],
 "metadata": {
  "kernelspec": {
   "display_name": "Python 3",
   "language": "python",
   "name": "python3"
  },
  "language_info": {
   "codemirror_mode": {
    "name": "ipython",
    "version": 2
   },
   "file_extension": ".py",
   "mimetype": "text/x-python",
   "name": "python",
   "nbconvert_exporter": "python",
   "pygments_lexer": "ipython2",
   "version": "2.7.6"
  }
 },
 "nbformat": 4,
 "nbformat_minor": 0
}