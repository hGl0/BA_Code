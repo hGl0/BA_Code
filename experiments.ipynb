{
 "cells": [
  {
   "cell_type": "code",
   "execution_count": 1,
   "outputs": [],
   "source": [
    "from fair_cc_functions import *\n",
    "import matplotlib.pyplot as plt\n",
    "import numpy as np"
   ],
   "metadata": {
    "collapsed": false,
    "pycharm": {
     "name": "#%%\n"
    }
   }
  },
  {
   "cell_type": "code",
   "execution_count": 2,
   "outputs": [],
   "source": [
    "# generates unfair and corresponding fair graph, computes clusters for these graphs and their costs\n",
    "# for all amount of nodes from 4 to n with 10 iterations by default\n",
    "# returns 2 arrays with the means of unfair and fair costs\n",
    "def stats_complete(unfair_graph, iteration=10):\n",
    "    stats = []\n",
    "    nodes = len(unfair_graph.nodes)\n",
    "    if nodes < 4: return -1\n",
    "    fairlets = create_fairlets(unfair_graph)\n",
    "    fair_graph = nx.Graph()\n",
    "    fair_graph.add_nodes_from(fairlets)\n",
    "    fair_p, fair_m = create_fairlet_relations(fairlets, unfair_graph)\n",
    "    fair_graph.add_weighted_edges_from(fair_p)\n",
    "    fair_graph.add_weighted_edges_from(fair_m)\n",
    "    for j in range(iteration):\n",
    "        fair_cluster = cc_pivot(fair_graph)\n",
    "        costs = cost(fair_cluster, unfair_graph)\n",
    "        stats.append(costs)\n",
    "    return stats\n",
    "\n",
    "def stats_incomplete(unfair_graph, iteration=10):\n",
    "    stats = []\n",
    "    nodes = len(unfair_graph.nodes())\n",
    "    if nodes < 4: return -1\n",
    "    fairlets = create_fairlets(unfair_graph)\n",
    "    fair_graph = nx.Graph()\n",
    "    fair_graph.add_nodes_from(fairlets)\n",
    "    fair_p, fair_m = create_fairlet_relations_incomplete(fairlets, unfair_graph)\n",
    "    fair_graph.add_weighted_edges_from(fair_p)\n",
    "    fair_graph.add_weighted_edges_from(fair_m)\n",
    "    for j in range(iteration):\n",
    "        fair_cluster = cc_pivot(fair_graph)\n",
    "        costs = cost(fair_cluster, unfair_graph)\n",
    "        stats.append(costs)\n",
    "    return stats"
   ],
   "metadata": {
    "collapsed": false,
    "pycharm": {
     "name": "#%%\n"
    }
   }
  },
  {
   "cell_type": "code",
   "execution_count": 3,
   "outputs": [],
   "source": [
    "# stats for scenario 1\n",
    "# always same costs as already optimal\n",
    "res0 = []\n",
    "for i in range(10, 65, 2):\n",
    "    unfair_graph = generate_complete_graph(i)\n",
    "    res0.append(stats_complete(unfair_graph, 1))\n",
    "nodes = [i for i in range(10, 65, 2)]\n",
    "max_calc_cost = [i*i/4 for i in nodes]"
   ],
   "metadata": {
    "collapsed": false,
    "pycharm": {
     "name": "#%%\n"
    }
   }
  },
  {
   "cell_type": "code",
   "execution_count": 4,
   "outputs": [
    {
     "data": {
      "text/plain": "<Figure size 432x288 with 1 Axes>",
      "image/png": "[encoded data removed]"
     },
     "metadata": {
      "needs_background": "light"
     },
     "output_type": "display_data"
    }
   ],
   "source": [
    "plt.plot(nodes, max_calc_cost, label='Max. calculated costs')\n",
    "plt.plot(nodes, res0, label='Computed costs')\n",
    "plt.ylabel('Absolut costs')\n",
    "plt.xlabel('Number of nodes in graph')\n",
    "plt.title('Computed vs. maximal costs in complete graphs')\n",
    "plt.legend()\n",
    "plt.savefig('../comp_vs_calc_cost_complete_graph.png')\n",
    "plt.savefig('CompleteGraphsPlots/comp_vs_calc_cost_complete_graph.png')\n",
    "plt.show()"
   ],
   "metadata": {
    "collapsed": false,
    "pycharm": {
     "name": "#%%\n"
    }
   }
  },
  {
   "cell_type": "code",
   "execution_count": 5,
   "outputs": [],
   "source": [
    "# similar density of incomplete graphs\n",
    "# probability for (+), resp. (-), is 0.5 in red and blue subgraphs => expected same density\n",
    "res1 = []\n",
    "for i in range(10, 65, 2):\n",
    "    unfair_graph = generate_incomplete_graph(i)\n",
    "    stat = stats_incomplete(unfair_graph, iteration=40)\n",
    "    res1.append(stat)"
   ],
   "metadata": {
    "collapsed": false,
    "pycharm": {
     "name": "#%%\n"
    }
   }
  },
  {
   "cell_type": "code",
   "execution_count": 6,
   "outputs": [],
   "source": [
    "# red/blue subgraphs are both sparse (regarding (+) relations)\n",
    "res2 = []\n",
    "for i in range(10, 65, 2):\n",
    "    unfair_graph = generate_red_blue_graph(i, 'bal_bin_tree', 'star')\n",
    "    stat = stats_incomplete(unfair_graph, iteration=40)\n",
    "    res2.append(stat)"
   ],
   "metadata": {
    "collapsed": false,
    "pycharm": {
     "name": "#%%\n"
    }
   }
  },
  {
   "cell_type": "code",
   "execution_count": 7,
   "outputs": [
    {
     "name": "stdout",
     "output_type": "stream",
     "text": [
      "3\n",
      "3\n",
      "3\n",
      "4\n",
      "3\n",
      "2\n",
      "8\n",
      "8\n",
      "7\n",
      "4\n",
      "11\n",
      "3\n",
      "6\n",
      "8\n",
      "17\n",
      "2\n",
      "16\n",
      "15\n",
      "20\n",
      "5\n",
      "5\n",
      "11\n",
      "15\n",
      "9\n",
      "8\n",
      "11\n",
      "19\n",
      "12\n"
     ]
    }
   ],
   "source": [
    "# red/blue subgraphs are both dense (regarding (+) relations)\n",
    "res3 =[]\n",
    "for i in range(10, 65, 2):\n",
    "    unfair_graph  = generate_red_blue_graph(i, 'bipartite', 'bipartite')\n",
    "    stat = stats_incomplete(unfair_graph, iteration=40)\n",
    "    res3.append(stat)"
   ],
   "metadata": {
    "collapsed": false,
    "pycharm": {
     "name": "#%%\n"
    }
   }
  },
  {
   "cell_type": "code",
   "execution_count": null,
   "outputs": [],
   "source": [
    "# red/blue subgraph are dense/sparse (regarding + relations)\n",
    "res4 = []\n",
    "for i in range(10, 65, 2):\n",
    "    unfair_graph = generate_red_blue_graph(i, 'star', 'bipartite')\n",
    "    stat = stats_incomplete(unfair_graph, iteration=40)\n",
    "    res4.append(stat)"
   ],
   "metadata": {
    "collapsed": false,
    "pycharm": {
     "name": "#%%\n",
     "is_executing": true
    }
   }
  },
  {
   "cell_type": "code",
   "execution_count": 4,
   "outputs": [],
   "source": [],
   "metadata": {
    "collapsed": false,
    "pycharm": {
     "name": "#%%\n"
    }
   }
  },
  {
   "cell_type": "code",
   "execution_count": null,
   "outputs": [],
   "source": [],
   "metadata": {
    "collapsed": false,
    "pycharm": {
     "name": "#%%\n"
    }
   }
  },
  {
   "cell_type": "code",
   "execution_count": null,
   "outputs": [],
   "source": [],
   "metadata": {
    "collapsed": false,
    "pycharm": {
     "name": "#%%\n"
    }
   }
  },
  {
   "cell_type": "code",
   "execution_count": 36,
   "outputs": [],
   "source": [],
   "metadata": {
    "collapsed": false,
    "pycharm": {
     "name": "#%%\n"
    }
   }
  },
  {
   "cell_type": "code",
   "execution_count": 10,
   "outputs": [],
   "source": [],
   "metadata": {
    "collapsed": false,
    "pycharm": {
     "name": "#%%\n"
    }
   }
  },
  {
   "cell_type": "code",
   "execution_count": 10,
   "outputs": [],
   "source": [],
   "metadata": {
    "collapsed": false,
    "pycharm": {
     "name": "#%%\n"
    }
   }
  },
  {
   "cell_type": "code",
   "execution_count": 10,
   "outputs": [],
   "source": [],
   "metadata": {
    "collapsed": false,
    "pycharm": {
     "name": "#%%\n"
    }
   }
  },
  {
   "cell_type": "code",
   "execution_count": null,
   "outputs": [],
   "source": [],
   "metadata": {
    "collapsed": false,
    "pycharm": {
     "name": "#%%\n"
    }
   }
  }
 ],
 "metadata": {
  "kernelspec": {
   "display_name": "Python 3",
   "language": "python",
   "name": "python3"
  },
  "language_info": {
   "codemirror_mode": {
    "name": "ipython",
    "version": 2
   },
   "file_extension": ".py",
   "mimetype": "text/x-python",
   "name": "python",
   "nbconvert_exporter": "python",
   "pygments_lexer": "ipython2",
   "version": "2.7.6"
  }
 },
 "nbformat": 4,
 "nbformat_minor": 0
}