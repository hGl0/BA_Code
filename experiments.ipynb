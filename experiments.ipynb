{
 "cells": [
  {
   "cell_type": "code",
   "execution_count": 1,
   "outputs": [],
   "source": [
    "import networkx as nx\n",
    "\n",
    "from fair_cc_functions import *\n",
    "import matplotlib.pyplot as plt\n",
    "import numpy as np\n",
    "\n",
    "nodes = [i for i in range(10, 61, 2)]\n",
    "iters = 100"
   ],
   "metadata": {
    "collapsed": false,
    "pycharm": {
     "name": "#%%\n"
    }
   }
  },
  {
   "cell_type": "code",
   "execution_count": 2,
   "outputs": [],
   "source": [
    "# generates unfair and corresponding fair graph, computes clusters for these graphs and their costs\n",
    "# for all amount of nodes from 4 to n with 10 iterations by default\n",
    "# returns 2 arrays with the means of unfair and fair costs\n",
    "def stats_complete(unfair_graph):\n",
    "    stats = []\n",
    "    nodes = len(unfair_graph.nodes)\n",
    "    if nodes < 4: return -1\n",
    "    fairlets = create_fairlets(unfair_graph)\n",
    "    fair_graph = nx.Graph()\n",
    "    fair_graph.add_nodes_from(fairlets)\n",
    "    fair_p, fair_m = create_fairlet_relations(fairlets, unfair_graph)\n",
    "    fair_graph.add_weighted_edges_from(fair_p)\n",
    "    fair_graph.add_weighted_edges_from(fair_m)\n",
    "    fair_cluster = cc_pivot(fair_graph)\n",
    "    costs = cost(fair_cluster, unfair_graph)\n",
    "    stats.append(costs)\n",
    "    return stats\n",
    "\n",
    "def stats_incomplete(unfair_graph, iteration=10):\n",
    "    stats = []\n",
    "    nodes = len(unfair_graph.nodes())\n",
    "    if nodes < 4: return -1\n",
    "    for j in range(iteration):\n",
    "        fairlets = create_fairlets(unfair_graph)\n",
    "        fair_graph = nx.Graph()\n",
    "        fair_graph.add_nodes_from(fairlets)\n",
    "        fair_p, fair_m = create_fairlet_relations_incomplete(fairlets, unfair_graph)\n",
    "        fair_graph.add_weighted_edges_from(fair_p)\n",
    "        fair_graph.add_weighted_edges_from(fair_m)\n",
    "        fair_cluster = cc_pivot(fair_graph)\n",
    "        costs = cost(fair_cluster, unfair_graph)\n",
    "        stats.append(costs)\n",
    "    return stats\n",
    "\n",
    "# random vs. random plot\n",
    "plt.rc('font', size=11)\n",
    "def draw_boxplot(to_plot,\n",
    "                     title='Title',\n",
    "                     ylabel ='Deviation from found minimum',\n",
    "                     xlabel='Amount of nodes of the whole graph',\n",
    "                     name='boxplot.png'):\n",
    "\n",
    "    fig1, ax1 = plt.subplots(1, 1, figsize=(8,4))\n",
    "    # scale data so that 0 corresponds to optimal cost and 1 to 3 times optimal costs (equation)\n",
    "    ax1.boxplot([i/(j) for i,j in zip(to_plot, np.min(to_plot, axis=1))], showmeans=True, meanline=True, medianprops={'color':'black'}, meanprops={'color':'red', 'linestyle':'-'})\n",
    "    ax1.set_title(title)\n",
    "    ax1.set_ylabel(ylabel)\n",
    "    ax1.set_xlabel(xlabel)\n",
    "    ax1.set_xticks([i for i in range(1,27)], nodes)\n",
    "    plt.savefig('IncompleteGraphsPlots/{}.png'.format(name))\n",
    "    plt.show()"
   ],
   "metadata": {
    "collapsed": false,
    "pycharm": {
     "name": "#%%\n"
    }
   }
  },
  {
   "cell_type": "code",
   "execution_count": 3,
   "outputs": [],
   "source": [
    "# stats for scenario 1\n",
    "# always same costs as already optimal\n",
    "res0 = []\n",
    "for i in range(10, 61, 2):\n",
    "    unfair_graph = generate_complete_graph(i)\n",
    "    res0.append(stats_complete(unfair_graph))\n",
    "max_calc_cost = [i*i/4 for i in nodes]"
   ],
   "metadata": {
    "collapsed": false,
    "pycharm": {
     "name": "#%%\n"
    }
   }
  },
  {
   "cell_type": "code",
   "execution_count": 4,
   "outputs": [
    {
     "data": {
      "text/plain": "<Figure size 432x288 with 1 Axes>",
      "image/png": "[encoded data removed]"
     },
     "metadata": {
      "needs_background": "light"
     },
     "output_type": "display_data"
    }
   ],
   "source": [
    "plt.plot(nodes, max_calc_cost, label='Max. calculated costs')\n",
    "plt.plot(nodes, res0, label='Computed costs')\n",
    "plt.ylabel('Absolut costs')\n",
    "plt.xlabel('Number of nodes in graph')\n",
    "plt.title('Computed vs. maximal costs in complete graphs')\n",
    "plt.legend()\n",
    "plt.savefig('../comp_vs_calc_cost_complete_graph.png')\n",
    "plt.savefig('CompleteGraphsPlots/comp_vs_calc_cost_complete_graph.png')\n",
    "plt.show()"
   ],
   "metadata": {
    "collapsed": false,
    "pycharm": {
     "name": "#%%\n"
    }
   }
  },
  {
   "cell_type": "code",
   "execution_count": null,
   "outputs": [],
   "source": [
    "# similar density of incomplete graphs\n",
    "# probability for (+), resp. (-), is 0.5 in red and blue subgraphs => expected same density\n",
    "rnd_rnd = []\n",
    "for i in range(10, 61, 2):\n",
    "    unfair_graph = generate_incomplete_graph(i)\n",
    "    stat = stats_incomplete(unfair_graph, iteration=iters)\n",
    "    rnd_rnd.append(stat)"
   ],
   "metadata": {
    "collapsed": false,
    "pycharm": {
     "name": "#%%\n",
     "is_executing": true
    }
   }
  },
  {
   "cell_type": "code",
   "execution_count": null,
   "outputs": [],
   "source": [
    "# red/blue subgraphs are both sparse (regarding (+) relations)\n",
    "tree_tree, tree_star, star_star, cyc_cyc = [], [], [], []\n",
    "cyc_star, cyc_tree = [],[]\n",
    "for i in range(10, 61, 2):\n",
    "    tree_tree_graph, b, r = generate_red_blue_graph(i, 'bal_bin_tree', 'bal_bin_tree')\n",
    "    tree_tree.append(stats_incomplete(tree_tree_graph, iteration=iters))\n"
   ],
   "metadata": {
    "collapsed": false,
    "pycharm": {
     "name": "#%%\n",
     "is_executing": true
    }
   }
  },
  {
   "cell_type": "code",
   "execution_count": null,
   "outputs": [],
   "source": [
    "for i in range(10, 61,2):\n",
    "    tree_star_graph, b, r = generate_red_blue_graph(i, 'bal_bin_tree', 'star')\n",
    "    tree_star.append(stats_incomplete(tree_star_graph, iteration=iters))\n"
   ],
   "metadata": {
    "collapsed": false,
    "pycharm": {
     "name": "#%%\n",
     "is_executing": true
    }
   }
  },
  {
   "cell_type": "code",
   "execution_count": null,
   "outputs": [],
   "source": [
    "for i in range(10, 61, 2):\n",
    "    star_star_graph, b,r = generate_red_blue_graph(i, 'star', 'star')\n",
    "    star_star.append(stats_incomplete(star_star_graph, iteration=iters))\n"
   ],
   "metadata": {
    "collapsed": false,
    "pycharm": {
     "name": "#%%\n",
     "is_executing": true
    }
   }
  },
  {
   "cell_type": "code",
   "execution_count": null,
   "outputs": [],
   "source": [
    "for i in range(10, 61, 2):\n",
    "    cyc_cyc_graph, b, r = generate_red_blue_graph(i, 'circle', 'circle')\n",
    "    cyc_cyc.append(stats_incomplete(cyc_cyc_graph, iteration=iters))\n"
   ],
   "metadata": {
    "collapsed": false,
    "pycharm": {
     "name": "#%%\n",
     "is_executing": true
    }
   }
  },
  {
   "cell_type": "code",
   "execution_count": null,
   "outputs": [],
   "source": [
    "for i in range(10, 61, 2):\n",
    "    cyc_star_graph, b, r = generate_red_blue_graph(i, 'circle', 'star')\n",
    "    cyc_star.append(stats_incomplete(cyc_star_graph, iteration=iters))\n"
   ],
   "metadata": {
    "collapsed": false,
    "pycharm": {
     "name": "#%%\n",
     "is_executing": true
    }
   }
  },
  {
   "cell_type": "code",
   "execution_count": null,
   "outputs": [],
   "source": [
    "for i in range(10, 61, 2):\n",
    "    cyc_tree_graph, b, r = generate_red_blue_graph(i, 'circle', 'bal_bin_tree')\n",
    "    cyc_tree.append(stats_incomplete(cyc_tree_graph, iteration=iters))\n"
   ],
   "metadata": {
    "collapsed": false,
    "pycharm": {
     "name": "#%%\n",
     "is_executing": true
    }
   }
  },
  {
   "cell_type": "code",
   "execution_count": null,
   "outputs": [],
   "source": [
    "# red/blue subgraphs are both dense (regarding (+) relations)\n",
    "bipar_bipar =[]\n",
    "bipar_3par = []\n",
    "threepar_3par = []\n",
    "for i in range(10, 61, 2):\n",
    "    bipar_bipar_grap, b, r  = generate_red_blue_graph(i, 'bipartite', 'bipartite')\n",
    "    bipar_bipar.append(stats_incomplete(bipar_bipar_grap, iteration=iters))\n"
   ],
   "metadata": {
    "collapsed": false,
    "pycharm": {
     "name": "#%%\n",
     "is_executing": true
    }
   }
  },
  {
   "cell_type": "code",
   "execution_count": null,
   "outputs": [],
   "source": [
    "for i in range(10, 61, 2):\n",
    "    bipar_3par_graph, b, r = generate_red_blue_graph(i, 'bipartite', '3partite')\n",
    "    bipar_3par.append(stats_incomplete(bipar_3par_graph, iteration=iters))\n"
   ],
   "metadata": {
    "collapsed": false,
    "pycharm": {
     "name": "#%%\n",
     "is_executing": true
    }
   }
  },
  {
   "cell_type": "code",
   "execution_count": null,
   "outputs": [],
   "source": [
    "for i in range(10, 61, 2):\n",
    "    threepar_3par_graph, b, r = generate_red_blue_graph(i, '3partite', '3partite')\n",
    "    threepar_3par.append(stats_incomplete(threepar_3par_graph, iteration=iters))\n",
    "    # clique_clique_graph = generate_red_blue_graph(i, 'clique', 'clique')\n",
    "    # clique_clique.append(stats_incomplete(clique_clique_graph, iteration=50))\n",
    "    # bipar_clique_graph = generate_red_blue_graph(i, 'clique', 'bipartite')\n",
    "    # bipar_clique.append(stats_incomplete(bipar_clique_graph, iteration=50))"
   ],
   "metadata": {
    "collapsed": false,
    "pycharm": {
     "name": "#%%\n",
     "is_executing": true
    }
   }
  },
  {
   "cell_type": "code",
   "execution_count": null,
   "outputs": [],
   "source": [
    "erd_ren09 = []\n",
    "for i in range(10, 61, 2):\n",
    "    erd_ren_graph, b, r = generate_red_blue_graph(i, 'erdos_renyi', 'erdos_renyi', p1 = 0.9, p2=0.9)\n",
    "    erd_ren09.append(stats_incomplete(erd_ren_graph, iteration=iters))\n",
    "erd_ren07 = []\n",
    "for i in range(10, 61, 2):\n",
    "    erd_ren_graph, b, r = generate_red_blue_graph(i, 'erdos_renyi', 'erdos_renyi')\n",
    "    erd_ren07.append(stats_incomplete(erd_ren_graph, iteration=iters))"
   ],
   "metadata": {
    "collapsed": false,
    "pycharm": {
     "name": "#%%\n",
     "is_executing": true
    }
   }
  },
  {
   "cell_type": "code",
   "execution_count": null,
   "outputs": [],
   "source": [
    "draw_boxplot(erd_ren09, 'Erdos Renyi graph (p=0.9) vs. Erdos Renyi Graph (p=0.9)', name='erd_ren_09')\n",
    "draw_boxplot(erd_ren07, 'Erdos Renyi graph (p=0.75) vs. Erdos Renyi Graph (p=0.75)', name='erd_ren_07')"
   ],
   "metadata": {
    "collapsed": false,
    "pycharm": {
     "name": "#%%\n",
     "is_executing": true
    }
   }
  },
  {
   "cell_type": "code",
   "execution_count": null,
   "outputs": [],
   "source": [
    "# red/blue subgraph are dense/sparse (regarding + relations)\n",
    "tree_bipar, star_bipar, cyc_bipar = [], [], []\n",
    "tree_3par, star_3par, cyc_3par = [],[],[]\n",
    "for i in range(10, 61, 2):\n",
    "    tree_bipar_graph, b, r = generate_red_blue_graph(i, 'bal_bin_tree', 'bipartite')\n",
    "    tree_bipar.append(stats_incomplete(tree_bipar_graph, iteration=iters))\n"
   ],
   "metadata": {
    "collapsed": false,
    "pycharm": {
     "name": "#%%\n",
     "is_executing": true
    }
   }
  },
  {
   "cell_type": "code",
   "execution_count": null,
   "outputs": [],
   "source": [
    "for i in range(10, 61, 2):\n",
    "    star_bipar_graph, b, r = generate_red_blue_graph(i, 'star', 'bipartite')\n",
    "    star_bipar.append(stats_incomplete(star_bipar_graph, iteration=iters))\n"
   ],
   "metadata": {
    "collapsed": false,
    "pycharm": {
     "name": "#%%\n",
     "is_executing": true
    }
   }
  },
  {
   "cell_type": "code",
   "execution_count": null,
   "outputs": [],
   "source": [
    "for i in range(10, 61, 2):\n",
    "    cyc_bipar_graph, b, r = generate_red_blue_graph(i, 'circle', 'bipartite')\n",
    "    cyc_bipar.append(stats_incomplete(cyc_bipar_graph, iteration=iters))\n"
   ],
   "metadata": {
    "collapsed": false,
    "pycharm": {
     "name": "#%%\n",
     "is_executing": true
    }
   }
  },
  {
   "cell_type": "code",
   "execution_count": null,
   "outputs": [],
   "source": [
    "for i in range(10, 61, 2):\n",
    "    tree_3par_graph, b, r = generate_red_blue_graph(i, 'bal_bin_tree', '3partite')\n",
    "    tree_3par.append(stats_incomplete(tree_3par_graph, iteration=iters))\n"
   ],
   "metadata": {
    "collapsed": false,
    "pycharm": {
     "name": "#%%\n",
     "is_executing": true
    }
   }
  },
  {
   "cell_type": "code",
   "execution_count": null,
   "outputs": [],
   "source": [
    "for i in range(10, 61, 2):\n",
    "    star_3par_graph , b, r= generate_red_blue_graph(i, 'star', '3partite')\n",
    "    star_3par.append(stats_incomplete(star_3par_graph, iteration=iters))\n"
   ],
   "metadata": {
    "collapsed": false,
    "pycharm": {
     "name": "#%%\n",
     "is_executing": true
    }
   }
  },
  {
   "cell_type": "code",
   "execution_count": null,
   "outputs": [],
   "source": [
    "for i in range(10, 61, 2):\n",
    "    cyc_3par_graph, b, r = generate_red_blue_graph(i, 'circle', '3partite')\n",
    "    cyc_3par.append(stats_incomplete(cyc_3par_graph, iteration=iters))\n"
   ],
   "metadata": {
    "collapsed": false,
    "pycharm": {
     "name": "#%%\n",
     "is_executing": true
    }
   }
  },
  {
   "cell_type": "code",
   "execution_count": 82,
   "outputs": [],
   "source": [
    "def draw_multi_boxplot(to_plot,\n",
    "                       title='Title',\n",
    "                       ylabel ='Deviation from found minimum',\n",
    "                       xlabel='Amount of nodes of the whole graph',\n",
    "                       name='boxplot'\n",
    "                        ):\n",
    "    plt.rc('font', size=18)\n",
    "    fig, ax = plt.subplots(1,1, figsize=(12,6))\n",
    "    n_plots = len(to_plot)\n",
    "    positions = [-0.3, 0, 0.3]\n",
    "    colors=['black', 'blue', 'green']\n",
    "    for i in range(n_plots):\n",
    "        draw_plot(to_plot[i], ax, positions[i], colors[i], 'white', title, ylabel, xlabel)\n",
    "    plt.xticks([i for i in range(len(nodes))], nodes)\n",
    "    # plt.savefig('IncompleteGraphsPlots/{}.png'.format(name))\n",
    "    plt.show()\n",
    "\n",
    "\n",
    "# function to get multiple boxplots as one figure\n",
    "def draw_plot(data, ax, offset, edge_color, fill_color, title, ylabel, xlabel):\n",
    "    pos = np.arange(len(data))+offset\n",
    "    bp = ax.boxplot([(i-j)/(k-j) for i,j,k in zip(data, np.min(data, axis=1), 3*np.min(data, axis=1))], positions= pos, widths=0.2, patch_artist=True,\n",
    "                    showmeans=True, meanline=True, medianprops={'color':'black'}, meanprops={'color':'red', 'linestyle':'-'}, flierprops={'markeredgecolor':edge_color})\n",
    "    for element in ['boxes', 'whiskers', 'fliers', 'caps']:\n",
    "        plt.setp(bp[element], color=edge_color)\n",
    "    for patch in bp['boxes']:\n",
    "        patch.set(facecolor=fill_color)\n",
    "    ax.set_title(title)\n",
    "    ax.set_ylabel(ylabel)\n",
    "    ax.set_xlabel(xlabel)\n"
   ],
   "metadata": {
    "collapsed": false,
    "pycharm": {
     "name": "#%%\n"
    }
   }
  },
  {
   "cell_type": "code",
   "execution_count": null,
   "outputs": [],
   "source": [
    "data = [cyc_cyc, star_star, tree_star, cyc_star, tree_tree, cyc_tree, bipar_bipar, bipar_3par, threepar_3par, cyc_bipar, cyc_3par, tree_bipar, tree_3par, star_bipar, star_3par, erd_ren09, erd_ren07]\n",
    "names = ['cyc_cyc', 'star_star', 'tree_star', 'cyc_star', 'tree_tree', 'cyc_tree', 'bipar_bipar', 'bipar_3par', 'threepar_3par', 'cyc_bipar', 'cyc_3par', 'tree_bipar', 'tree_3par', 'star_bipar', 'star_3par', 'erdos_ren_09', 'erdos_ren_075']\n",
    "max=0\n",
    "max_mean = 0\n",
    "max_amt = 0\n",
    "\n",
    "for i in range(len(data)):\n",
    "    scaled = [i for i,j,k in zip(data[i], np.min(data[i], axis=1), 3*np.min(data[i], axis=1))]\n",
    "    if np.max(scaled) > max: max = np.max(scaled)\n",
    "    if np.max(np.mean(scaled, axis=1)) > max_mean: max_mean = np.max(np.mean(scaled, axis=1))\n",
    "    if np.sum(np.max(scaled, axis=1)>3) > max_amt: max_amt = np.sum(np.max(scaled, axis=1)>3)\n",
    "    means = np.mean(scaled, axis=1)\n",
    "    print(names[i]+'(max/mean/amt > 1/mean of means):' + str(np.max(scaled)) + '/'+str(np.max(np.mean(scaled, axis=1)))+'/'+str(np.sum(np.max(scaled, axis = 1)>3))+'/'+str(np.mean(means)))\n",
    "print(max)\n",
    "print(max_mean)\n",
    "print(max_amt)\n",
    "\n",
    "# star_opt(max/mean/amt > 1):14.0/1.4699565217391304/23\n",
    "# cyc_opt(max/mean/amt > 1):3.25/2.2146/4\n",
    "# tree_opt(max/mean/amt > 1):3.857142857142857/2.2398/22"
   ],
   "metadata": {
    "collapsed": false,
    "pycharm": {
     "name": "#%%\n",
     "is_executing": true
    }
   }
  },
  {
   "cell_type": "code",
   "execution_count": null,
   "outputs": [],
   "source": [
    "# draw_boxplot(, 'Random vs. random', name='random_random.png')\n",
    "draw_boxplot(data[4], \"Tree vs. Tree\", name='tree_tree')\n",
    "draw_boxplot(data[2], 'Tree vs. Star', name='tree_star')\n",
    "draw_boxplot(data[1], 'Star vs. Star', name='star_star')\n",
    "draw_boxplot(data[0], 'Cycle vs. Cycle', name='cyc_cyc')\n",
    "draw_boxplot(data[3], 'Cycle vs. Star', name='cyc_star')\n",
    "draw_boxplot(data[5], \"Cycle vs. Tree\", name='cyc_tree')\n",
    "draw_boxplot(data[6], 'Bipartite vs. Bipartite', name='bipar_bipar')\n",
    "draw_boxplot(data[7], 'Bipartite vs. 3-partite', name='bipar_3par')\n",
    "draw_boxplot(data[8], '3-partite vs. 3-partite', name='threepar_threepar')\n",
    "draw_boxplot(data[11], \"Tree vs. Bipartite\", name ='tree_bipar')\n",
    "draw_boxplot(data[13], 'Star vs. Bipartite', name='star_bipar')\n",
    "draw_boxplot(data[9], \"Cycle vs. Bipartite\", name='cyc_bipar')\n",
    "draw_boxplot(data[12], 'Tree vs. 3-partite', name='tree_3par')\n",
    "draw_boxplot(data[14], 'Star vs. 3-partite', name='star_3par')\n",
    "draw_boxplot(data[10], \"Cycle vs. 3-partite\", name='cyc_3par')\n",
    "draw_boxplot(data[15], 'Erdos-Renyi (0.9) vs. Erdos-Renyi (0.9)', name='erd_ren_09')\n",
    "draw_boxplot(data[16], 'Erdos-Renyi (0.75) vs. Erdos-Renyi (0.75)', name='erd_ren_07')"
   ],
   "metadata": {
    "collapsed": false,
    "pycharm": {
     "name": "#%%\n",
     "is_executing": true
    }
   }
  },
  {
   "cell_type": "code",
   "execution_count": null,
   "outputs": [],
   "source": [
    "# random vs. random plot\n",
    "plt.rc('font', size=11)\n",
    "def boxplot_vs_opt(to_plot, opt,\n",
    "                     title='Title',\n",
    "                     ylabel ='Deviation from found minimum',\n",
    "                     xlabel='Amount of nodes of the whole graph',\n",
    "                     name='boxplot.png'):\n",
    "    fig1, ax1 = plt.subplots(1, 1, figsize=(8,4))\n",
    "    # scale data so that 0 corresponds to optimal cost and 1 to 3 times optimal costs (equation)\n",
    "    ax1.boxplot([i/j for i,j in zip(to_plot, opt)], showmeans=True, meanline=True, medianprops={'color':'black'}, meanprops={'color':'red', 'linestyle':'-'})\n",
    "    ax1.set_title(title)\n",
    "    ax1.set_ylabel(ylabel)\n",
    "    ax1.set_xlabel(xlabel)\n",
    "    ax1.set_xticks([i for i in range(1,27)], nodes)\n",
    "    plt.savefig('IncompleteGraphsPlots/{}.png'.format(name))\n",
    "    plt.show()\n",
    "\n",
    "tree_tree = data[4]\n",
    "star_star = data[1]\n",
    "cyc_cyc = data[0]\n",
    "opt_star = [np.float64(i-4) for i in range(10,61,2)]\n",
    "opt_cyc = [2*(np.floor((j/2)/2)+1) for j in range(10,61,2)]\n",
    "opt_tree = [2*(np.floor((j/2)/2)+ (j/2) % 2) for j in range (10, 61, 2)]\n",
    "\n",
    "boxplot_vs_opt(cyc_cyc, opt_cyc, 'Cycle vs. Optimal costs', name='cyc_opt')\n",
    "boxplot_vs_opt(star_star, opt_star, 'Star vs. Optimal costs', name='star_opt')\n",
    "boxplot_vs_opt(tree_tree, opt_tree, 'Tree vs. Optimal costs', name='tree_opt')"
   ],
   "metadata": {
    "collapsed": false,
    "pycharm": {
     "name": "#%%\n",
     "is_executing": true
    }
   }
  },
  {
   "cell_type": "code",
   "execution_count": null,
   "outputs": [],
   "source": [
    "names_opt = ['star_opt', 'cyc_opt', 'tree_opt']\n",
    "for i in range(len([star_star, cyc_cyc, tree_tree])):\n",
    "    scaled = [i/j for i,j in zip([star_star, cyc_cyc, tree_tree][i], [opt_star, opt_cyc, opt_tree][i])]\n",
    "    if np.max(scaled) > max: max = np.max(scaled)\n",
    "    if np.max(np.mean(scaled, axis=1)) > max_mean: max_mean = np.max(np.mean(scaled, axis=1))\n",
    "    if np.sum(np.max(scaled, axis=1)>3) > max_amt: max_amt = np.sum(np.max(scaled, axis=1)>3)\n",
    "    print(names_opt[i]+'(max/mean/amt > 1):' + str(np.max(scaled)) + '/'+str(np.max(np.mean(scaled, axis=1)))+'/'+str(np.sum(np.max(scaled, axis = 1)>3)))"
   ],
   "metadata": {
    "collapsed": false,
    "pycharm": {
     "name": "#%%\n",
     "is_executing": true
    }
   }
  },
  {
   "cell_type": "code",
   "execution_count": 12,
   "outputs": [
    {
     "name": "stdout",
     "output_type": "stream",
     "text": [
      "cyc_cyc\n",
      "[-1.0, -1.0, -1.0, -1.0, -1.0, -1.0, -1.0, -1.0, -1.0, -1.0, -1.0, -1.0, -1.0, -1.0, -1.0, -1.0, -1.0, -1.0, -1.0, -1.0, -1.0, -1.0, -1.0, -1.0, -1.0, -1.0]\n",
      "[-1, -1, -1, -1, -1, -1, -1, -1, -1, -1, -1, -1, -1, -1, -1, -1, -1, -1, -1, -1, -1, -1, -1, -1, 1, -1]\n",
      "star_star\n",
      "[1.0, 1.0, 1.0, 1.0, 1.0, 1.0, 1.0, 1.0, 1.0, 1.0, 1.0, 1.0, 1.0, 1.0, 1.0, 1.0, 1.0, 1.0, 1.0, -1.0, 1.0, 1.0, 1.0, 1.0, 1.0, 1.0]\n",
      "[1, 1, 1, 1, 1, 1, 1, 1, 1, 1, 1, 1, 1, 1, 1, 1, 1, 1, 1, 1, 1, 1, 1, 1, 1, 1]\n",
      "tree_star\n",
      "[1.0, 1.0, 1.0, 1.0, 1.0, 1.0, 1.0, 1.0, 1.0, 1.0, 1.0, 1.0, 1.0, 1.0, 1.0, 1.0, 1.0, 1.0, 1.0, 1.0, 1.0, 1.0, 1.0, 1.0, 1.0, 1.0]\n",
      "[0, 1, 1, 1, 1, 1, 1, 1, 1, 1, 1, 1, 1, 1, 1, 1, 1, 1, 1, 1, 1, 1, 1, 1, 1, 1]\n",
      "cyc_star\n",
      "[1.0, 1.0, 1.0, 1.0, 1.0, 1.0, 1.0, 1.0, 1.0, 1.0, 1.0, 1.0, 1.0, 1.0, 1.0, 1.0, 1.0, 1.0, 1.0, 1.0, 1.0, 1.0, 1.0, 1.0, 1.0, 1.0]\n",
      "[-1, 1, 1, 1, 1, 1, 1, 1, 1, 1, 1, 1, 1, 1, 1, 1, 1, 1, 1, 1, 1, 1, 1, 1, 1, 1]\n",
      "tree_tree\n",
      "[-1.0, 1.0, 1.0, -1.0, 1.0, 1.0, 1.0, -1.0, -1.0, 1.0, 1.0, 1.0, -1.0, -1.0, 1.0, -1.0, -1.0, -1.0, 1.0, -1.0, -1.0, -1.0, 1.0, -1.0, -1.0, 1.0]\n",
      "[-1, 0, -1, -1, 1, 1, 1, 1, 1, 1, 1, 1, 1, 1, 1, 1, 1, 1, 1, 1, 1, 1, 1, 1, 1, 1]\n",
      "cyc_tree\n",
      "[-1.0, 1.0, 1.0, 1.0, 1.0, -1.0, 1.0, 1.0, -1.0, -1.0, 1.0, 1.0, 1.0, 1.0, 1.0, -1.0, 1.0, 1.0, 1.0, 1.0, 1.0, 1.0, 1.0, 1.0, 1.0, 1.0]\n",
      "[-1, -1, -1, 0, -1, 1, 1, 1, 1, 1, 1, 1, 1, 1, 1, 1, 1, 1, 1, 1, 1, 1, 1, 1, 1, 1]\n",
      "bipar_bipar\n",
      "[1.0, 1.0, 1.0, 1.0, 1.0, 1.0, 1.0, 1.0, 1.0, 1.0, 1.0, 1.0, 1.0, 1.0, 1.0, 1.0, 1.0, 1.0, 1.0, 1.0, 1.0, 1.0, 1.0, 1.0, 1.0, 1.0]\n",
      "[0, 1, 1, 1, 1, 1, 1, -1, 1, 1, 1, 1, 1, 1, 0, -1, 1, 1, 1, 1, 1, 1, 1, -1, 1, 1]\n",
      "bipar_3par\n",
      "[1.0, 1.0, 1.0, 1.0, 1.0, 1.0, 1.0, 1.0, 1.0, -1.0, 1.0, 1.0, 1.0, 1.0, 1.0, 1.0, 1.0, 1.0, 1.0, 1.0, 1.0, -1.0, -1.0, 1.0, 1.0, 1.0]\n",
      "[-1, -1, 1, 1, 1, 1, 1, 1, 1, 1, 1, -1, 1, 1, -1, 1, 1, 1, -1, -1, -1, 1, 1, 1, 1, -1]\n",
      "threepar_3par\n",
      "[1.0, 1.0, 1.0, 1.0, 1.0, 1.0, 1.0, 1.0, 1.0, 1.0, 1.0, 1.0, 1.0, 1.0, 1.0, 1.0, 1.0, 1.0, 1.0, 1.0, 1.0, -1.0, 1.0, 1.0, 1.0, -1.0]\n",
      "[-1, 1, 1, 0, 1, 1, 1, 1, 1, 1, 1, 1, -1, 1, 1, 1, -1, 1, 1, 1, 1, 1, 1, 1, 1, 1]\n",
      "cyc_bipar\n",
      "[1.0, 1.0, 1.0, 1.0, 1.0, 1.0, 1.0, 1.0, 1.0, 1.0, 1.0, 1.0, 1.0, 1.0, 1.0, 1.0, 1.0, 1.0, 1.0, 1.0, 1.0, 1.0, 1.0, 1.0, 1.0, 1.0]\n",
      "[-1, 1, 1, 1, 1, 1, 1, 1, 1, 1, 1, 1, 1, 1, 1, 1, 1, 1, 1, 1, 1, 1, 1, 1, 1, 1]\n",
      "cyc_3par\n",
      "[1.0, 1.0, 1.0, 1.0, 1.0, 1.0, 1.0, 1.0, 1.0, 1.0, 1.0, 1.0, 1.0, 1.0, 1.0, 1.0, 1.0, 1.0, 1.0, 1.0, 1.0, 1.0, 1.0, -1.0, 1.0, 1.0]\n",
      "[-1, -1, 0, 0, -1, 1, 1, 0, 1, 1, 1, 1, 1, -1, 1, 1, 1, 1, 1, 1, 1, 1, 1, 1, 1, 1]\n",
      "tree_bipar\n",
      "[1.0, 1.0, 1.0, 1.0, 1.0, 1.0, 1.0, 1.0, 1.0, 1.0, 1.0, 1.0, 1.0, 1.0, 1.0, 1.0, 1.0, 1.0, 1.0, 1.0, 1.0, 1.0, 1.0, 1.0, 1.0, 1.0]\n",
      "[-1, 0, 1, 1, 1, 1, 1, 1, 1, 1, 1, 1, 1, 1, 1, 1, 1, 1, 1, 1, 1, 1, 1, 1, 1, 1]\n",
      "tree_3par\n",
      "[1.0, 1.0, 1.0, 1.0, 1.0, 1.0, 1.0, 1.0, 1.0, 1.0, 1.0, 1.0, 1.0, 1.0, 1.0, 1.0, -1.0, 1.0, 1.0, -1.0, 1.0, 1.0, -1.0, 1.0, 1.0, 1.0]\n",
      "[-1, 0, 0, 1, 0, 1, -1, -1, 1, 1, 1, -1, 1, 1, 1, 1, 1, 1, 1, 1, -1, 1, 1, 1, 1, 1]\n",
      "star_bipar\n",
      "[1.0, 1.0, 1.0, 1.0, 1.0, 1.0, 1.0, 1.0, 1.0, 1.0, 1.0, 1.0, 1.0, 1.0, 1.0, 1.0, 1.0, 1.0, -1.0, 1.0, 1.0, -1.0, 1.0, -1.0, -1.0, 1.0]\n",
      "[0, 0, 1, 1, 1, 1, -1, 1, 1, 1, -1, 1, 1, 1, 1, 1, 1, 1, 1, 1, 1, 1, 1, 1, 1, 1]\n",
      "star_3par\n",
      "[1.0, 1.0, 1.0, -1.0, 1.0, 1.0, -1.0, 1.0, 1.0, 1.0, 1.0, -1.0, 1.0, 1.0, 1.0, -1.0, 1.0, -1.0, 1.0, -1.0, 1.0, 1.0, -1.0, 1.0, 1.0, -1.0]\n",
      "[1, 1, 1, -1, 0, 1, 1, 1, 1, 1, 1, 1, -1, -1, 1, 1, -1, 1, 1, 1, -1, -1, 1, -1, -1, 1]\n"
     ]
    }
   ],
   "source": [
    "# for i in range(len(data_puzzle)):\n",
    "#     print(names[i])\n",
    "#     print([np.sign(i-j) for i,j in zip(np.mean(data_puzzle[i], axis=1), np.mean(data[i], axis=1))])\n",
    "#     print([np.sign(i-j) for i,j in zip(np.max(data_puzzle[i], axis=1), np.max(data[i], axis=1))])"
   ],
   "metadata": {
    "collapsed": false,
    "pycharm": {
     "name": "#%%\n"
    }
   }
  },
  {
   "cell_type": "code",
   "execution_count": null,
   "outputs": [],
   "source": [],
   "metadata": {
    "collapsed": false,
    "pycharm": {
     "name": "#%%\n"
    }
   }
  }
 ],
 "metadata": {
  "kernelspec": {
   "display_name": "Python 3",
   "language": "python",
   "name": "python3"
  },
  "language_info": {
   "codemirror_mode": {
    "name": "ipython",
    "version": 2
   },
   "file_extension": ".py",
   "mimetype": "text/x-python",
   "name": "python",
   "nbconvert_exporter": "python",
   "pygments_lexer": "ipython2",
   "version": "2.7.6"
  }
 },
 "nbformat": 4,
 "nbformat_minor": 0
}