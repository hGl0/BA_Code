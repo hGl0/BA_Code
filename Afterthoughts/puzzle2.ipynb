{
 "cells": [
  {
   "cell_type": "code",
   "execution_count": 1,
   "outputs": [],
   "source": [
    "import networkx as nx\n",
    "from fair_cc_functions import *\n",
    "import numpy as np\n",
    "import matplotlib.pyplot as plt\n",
    "import networkx as nx"
   ],
   "metadata": {
    "collapsed": false,
    "pycharm": {
     "name": "#%%\n"
    }
   }
  },
  {
   "cell_type": "code",
   "execution_count": 6,
   "outputs": [],
   "source": [
    "def greedy_puzzle2(red_g, blue_g):\n",
    "    # 2) perform cc-pivot on each subgraph, clusters sorted\n",
    "    blue_cluster = sorted(cc_pivot(blue_g), key=len)\n",
    "    red_cluster = sorted(cc_pivot(red_g), key=len)\n",
    "\n",
    "    final_clustering = []\n",
    "    rm_red = []\n",
    "    rm_blue = []\n",
    "    i = 0\n",
    "    while i < len(blue_cluster) and i < len(red_cluster) and\\\n",
    "        len(blue_cluster[i]) == len(red_cluster[i]):\n",
    "            final_clustering.append(blue_cluster[i]+red_cluster[i])\n",
    "            rm_red.extend(red_cluster[i])\n",
    "            rm_blue.extend(blue_cluster[i])\n",
    "            i += 1\n",
    "\n",
    "    red_g.remove_nodes_from(rm_red)\n",
    "    blue_g.remove_nodes_from(rm_blue)\n",
    "\n",
    "    if len(red_g.nodes) == 0 and len(blue_g.nodes) == 0:\n",
    "        return final_clustering\n",
    "    return final_clustering, greedy_puzzle2(red_g, blue_g)"
   ],
   "metadata": {
    "collapsed": false,
    "pycharm": {
     "name": "#%%\n"
    }
   }
  },
  {
   "cell_type": "code",
   "execution_count": 20,
   "outputs": [
    {
     "name": "stdout",
     "output_type": "stream",
     "text": [
      "([], ([], ([[2, 9]], ([], ([], ([], [[1, 0, 3, 4, 6, 5, 7, 8]]))))))\n"
     ]
    }
   ],
   "source": [
    "g, r, b = generate_red_blue_graph(10, 'erdos_renyi', '3partite')\n",
    "r.add_edges_from(r.edges, weight=1)\n",
    "r.add_edges_from(nx.complement(r).edges, weight=0)\n",
    "b.add_edges_from(b.edges, weight=1)\n",
    "b.add_edges_from(nx.complement(b).edges, weight=0)\n",
    "res = greedy_puzzle2(r, b)\n",
    "print(res)"
   ],
   "metadata": {
    "collapsed": false,
    "pycharm": {
     "name": "#%%\n"
    }
   }
  },
  {
   "cell_type": "code",
   "execution_count": 88,
   "outputs": [],
   "source": [],
   "metadata": {
    "collapsed": false,
    "pycharm": {
     "name": "#%%\n"
    }
   }
  },
  {
   "cell_type": "code",
   "execution_count": null,
   "outputs": [],
   "source": [],
   "metadata": {
    "collapsed": false,
    "pycharm": {
     "name": "#%%\n"
    }
   }
  }
 ],
 "metadata": {
  "kernelspec": {
   "display_name": "Python 3",
   "language": "python",
   "name": "python3"
  },
  "language_info": {
   "codemirror_mode": {
    "name": "ipython",
    "version": 2
   },
   "file_extension": ".py",
   "mimetype": "text/x-python",
   "name": "python",
   "nbconvert_exporter": "python",
   "pygments_lexer": "ipython2",
   "version": "2.7.6"
  }
 },
 "nbformat": 4,
 "nbformat_minor": 0
}